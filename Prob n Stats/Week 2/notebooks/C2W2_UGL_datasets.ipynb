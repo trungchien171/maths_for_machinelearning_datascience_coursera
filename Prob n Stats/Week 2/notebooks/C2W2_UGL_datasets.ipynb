{
 "cells": [
  {
   "cell_type": "markdown",
   "id": "c6dea874",
   "metadata": {},
   "source": [
    "# Ungraded Lab - Summary Statistics\n",
    "\n",
    "In this notebook, you will be working with two distinct datasets. You will notice that relying solely on the main statistical measures such as mean, variance (or standard deviation), and correlation may not always effectively describe the datasets. Therefore, it is always advisable to supplement these measures with visualization techniques and/or other statistical measures to gain a deeper understanding of the data.\n",
    "\n",
    "You will be working with two well-known datasets: Anscombe's quartet and the Datasaurus Dozen dataset. These datasets are artificially generated and are used to illustrate the fact that some metrics can fail to capture important information present in a dataset. More specifically, these datasets are used to demonstrate how relying solely on metrics can sometimes be misleading. If you're interested, you can read more about Anscombe's quartet and the Datasaurus Dozen dataset at their respective [Wikipedia](https://en.wikipedia.org/wiki/Anscombe%27s_quartet) page and [Autodesk Research](https://damassets.autodesk.net/content/dam/autodesk/research/publications-assets/pdf/same-stats-different-graphs.pdf) article."
   ]
  },
  {
   "cell_type": "code",
   "execution_count": 1,
   "id": "a74d2cd6",
   "metadata": {},
   "outputs": [],
   "source": [
    "import numpy as np\n",
    "import pandas as pd\n",
    "import os\n",
    "import matplotlib.pyplot as plt\n",
    "import utils\n",
    "%matplotlib widget\n"
   ]
  },
  {
   "cell_type": "markdown",
   "id": "d084f9c7",
   "metadata": {},
   "source": [
    "# 1.1 First data set - Anscombe's quartet\n",
    "\n",
    "This first dataset was initially constructed by the statistician Francis Anscombe to demonstrate both the importance of graphing data when analyzing it, and the effect of outliers and other influential observations on statistical properties. (From wikipedia)\n",
    "\n",
    "To read the dataset, which is stored in a `.csv file`, you can use the read_csv function in pandas. This function enables you to load a DataFrame immediately. For further information on this function, you can type help(pd.read_csv) in your code editor."
   ]
  },
  {
   "cell_type": "code",
   "execution_count": 2,
   "id": "8a5ad75e",
   "metadata": {},
   "outputs": [],
   "source": [
    "# This line of code reads the dataset named 'df_anscombe.csv', which is stored in the same directory as this notebook.\n",
    "df_anscombe = pd.read_csv('df_anscombe.csv')"
   ]
  },
  {
   "cell_type": "markdown",
   "id": "9fac4348",
   "metadata": {},
   "source": [
    "The call `df_anscombe.head()` will show you the first five rows of the data set, so you can have a look on its data."
   ]
  },
  {
   "cell_type": "code",
   "execution_count": 3,
   "id": "a20f11a7",
   "metadata": {},
   "outputs": [
    {
     "data": {
      "text/html": [
       "<div>\n",
       "<style scoped>\n",
       "    .dataframe tbody tr th:only-of-type {\n",
       "        vertical-align: middle;\n",
       "    }\n",
       "\n",
       "    .dataframe tbody tr th {\n",
       "        vertical-align: top;\n",
       "    }\n",
       "\n",
       "    .dataframe thead th {\n",
       "        text-align: right;\n",
       "    }\n",
       "</style>\n",
       "<table border=\"1\" class=\"dataframe\">\n",
       "  <thead>\n",
       "    <tr style=\"text-align: right;\">\n",
       "      <th></th>\n",
       "      <th>x</th>\n",
       "      <th>y</th>\n",
       "      <th>group</th>\n",
       "    </tr>\n",
       "  </thead>\n",
       "  <tbody>\n",
       "    <tr>\n",
       "      <th>0</th>\n",
       "      <td>10.0</td>\n",
       "      <td>8.04</td>\n",
       "      <td>1</td>\n",
       "    </tr>\n",
       "    <tr>\n",
       "      <th>1</th>\n",
       "      <td>8.0</td>\n",
       "      <td>6.95</td>\n",
       "      <td>1</td>\n",
       "    </tr>\n",
       "    <tr>\n",
       "      <th>2</th>\n",
       "      <td>13.0</td>\n",
       "      <td>7.58</td>\n",
       "      <td>1</td>\n",
       "    </tr>\n",
       "    <tr>\n",
       "      <th>3</th>\n",
       "      <td>9.0</td>\n",
       "      <td>8.81</td>\n",
       "      <td>1</td>\n",
       "    </tr>\n",
       "    <tr>\n",
       "      <th>4</th>\n",
       "      <td>11.0</td>\n",
       "      <td>8.33</td>\n",
       "      <td>1</td>\n",
       "    </tr>\n",
       "  </tbody>\n",
       "</table>\n",
       "</div>"
      ],
      "text/plain": [
       "      x     y  group\n",
       "0  10.0  8.04      1\n",
       "1   8.0  6.95      1\n",
       "2  13.0  7.58      1\n",
       "3   9.0  8.81      1\n",
       "4  11.0  8.33      1"
      ]
     },
     "execution_count": 3,
     "metadata": {},
     "output_type": "execute_result"
    }
   ],
   "source": [
    "df_anscombe.head()"
   ]
  },
  {
   "cell_type": "code",
   "execution_count": 4,
   "id": "2080e010",
   "metadata": {},
   "outputs": [
    {
     "data": {
      "text/plain": [
       "4"
      ]
     },
     "execution_count": 4,
     "metadata": {},
     "output_type": "execute_result"
    }
   ],
   "source": [
    "# Let's determine the number of groups present in this dataset.\n",
    "df_anscombe.group.nunique()"
   ]
  },
  {
   "cell_type": "markdown",
   "id": "bd9ce36c",
   "metadata": {},
   "source": [
    "This dataset comprises of four groups of data, each containing two components - `x` and `y`. To analyze the data, you can obtain the mean and variance of each group, as well as the correlation between x and y within each group. Pandas provides a built-in function called `DataFrame.describe` that displays common statistics for each variable. To group the data by the group column, you can use the `DataFrame.groupby` function."
   ]
  },
  {
   "cell_type": "markdown",
   "id": "70946c36",
   "metadata": {},
   "source": [
    "The next block of code first groups the `DataFrame` based on the group column, and then applies the describe function to obtain the common statistics for each variable in each group."
   ]
  },
  {
   "cell_type": "code",
   "execution_count": 5,
   "id": "e66e9c08",
   "metadata": {},
   "outputs": [
    {
     "data": {
      "text/html": [
       "<div>\n",
       "<style scoped>\n",
       "    .dataframe tbody tr th:only-of-type {\n",
       "        vertical-align: middle;\n",
       "    }\n",
       "\n",
       "    .dataframe tbody tr th {\n",
       "        vertical-align: top;\n",
       "    }\n",
       "\n",
       "    .dataframe thead tr th {\n",
       "        text-align: left;\n",
       "    }\n",
       "\n",
       "    .dataframe thead tr:last-of-type th {\n",
       "        text-align: right;\n",
       "    }\n",
       "</style>\n",
       "<table border=\"1\" class=\"dataframe\">\n",
       "  <thead>\n",
       "    <tr>\n",
       "      <th></th>\n",
       "      <th colspan=\"8\" halign=\"left\">x</th>\n",
       "      <th colspan=\"8\" halign=\"left\">y</th>\n",
       "    </tr>\n",
       "    <tr>\n",
       "      <th></th>\n",
       "      <th>count</th>\n",
       "      <th>mean</th>\n",
       "      <th>std</th>\n",
       "      <th>min</th>\n",
       "      <th>25%</th>\n",
       "      <th>50%</th>\n",
       "      <th>75%</th>\n",
       "      <th>max</th>\n",
       "      <th>count</th>\n",
       "      <th>mean</th>\n",
       "      <th>std</th>\n",
       "      <th>min</th>\n",
       "      <th>25%</th>\n",
       "      <th>50%</th>\n",
       "      <th>75%</th>\n",
       "      <th>max</th>\n",
       "    </tr>\n",
       "    <tr>\n",
       "      <th>group</th>\n",
       "      <th></th>\n",
       "      <th></th>\n",
       "      <th></th>\n",
       "      <th></th>\n",
       "      <th></th>\n",
       "      <th></th>\n",
       "      <th></th>\n",
       "      <th></th>\n",
       "      <th></th>\n",
       "      <th></th>\n",
       "      <th></th>\n",
       "      <th></th>\n",
       "      <th></th>\n",
       "      <th></th>\n",
       "      <th></th>\n",
       "      <th></th>\n",
       "    </tr>\n",
       "  </thead>\n",
       "  <tbody>\n",
       "    <tr>\n",
       "      <th>1</th>\n",
       "      <td>11.0</td>\n",
       "      <td>9.0</td>\n",
       "      <td>3.316625</td>\n",
       "      <td>4.0</td>\n",
       "      <td>6.5</td>\n",
       "      <td>9.0</td>\n",
       "      <td>11.5</td>\n",
       "      <td>14.0</td>\n",
       "      <td>11.0</td>\n",
       "      <td>7.500909</td>\n",
       "      <td>2.031568</td>\n",
       "      <td>4.26</td>\n",
       "      <td>6.315</td>\n",
       "      <td>7.58</td>\n",
       "      <td>8.57</td>\n",
       "      <td>10.84</td>\n",
       "    </tr>\n",
       "    <tr>\n",
       "      <th>2</th>\n",
       "      <td>11.0</td>\n",
       "      <td>9.0</td>\n",
       "      <td>3.316625</td>\n",
       "      <td>4.0</td>\n",
       "      <td>6.5</td>\n",
       "      <td>9.0</td>\n",
       "      <td>11.5</td>\n",
       "      <td>14.0</td>\n",
       "      <td>11.0</td>\n",
       "      <td>7.500909</td>\n",
       "      <td>2.031657</td>\n",
       "      <td>3.10</td>\n",
       "      <td>6.695</td>\n",
       "      <td>8.14</td>\n",
       "      <td>8.95</td>\n",
       "      <td>9.26</td>\n",
       "    </tr>\n",
       "    <tr>\n",
       "      <th>3</th>\n",
       "      <td>11.0</td>\n",
       "      <td>9.0</td>\n",
       "      <td>3.316625</td>\n",
       "      <td>4.0</td>\n",
       "      <td>6.5</td>\n",
       "      <td>9.0</td>\n",
       "      <td>11.5</td>\n",
       "      <td>14.0</td>\n",
       "      <td>11.0</td>\n",
       "      <td>7.500000</td>\n",
       "      <td>2.030424</td>\n",
       "      <td>5.39</td>\n",
       "      <td>6.250</td>\n",
       "      <td>7.11</td>\n",
       "      <td>7.98</td>\n",
       "      <td>12.74</td>\n",
       "    </tr>\n",
       "    <tr>\n",
       "      <th>4</th>\n",
       "      <td>11.0</td>\n",
       "      <td>9.0</td>\n",
       "      <td>3.316625</td>\n",
       "      <td>8.0</td>\n",
       "      <td>8.0</td>\n",
       "      <td>8.0</td>\n",
       "      <td>8.0</td>\n",
       "      <td>19.0</td>\n",
       "      <td>11.0</td>\n",
       "      <td>7.500909</td>\n",
       "      <td>2.030579</td>\n",
       "      <td>5.25</td>\n",
       "      <td>6.170</td>\n",
       "      <td>7.04</td>\n",
       "      <td>8.19</td>\n",
       "      <td>12.50</td>\n",
       "    </tr>\n",
       "  </tbody>\n",
       "</table>\n",
       "</div>"
      ],
      "text/plain": [
       "          x                                               y            \\\n",
       "      count mean       std  min  25%  50%   75%   max count      mean   \n",
       "group                                                                   \n",
       "1      11.0  9.0  3.316625  4.0  6.5  9.0  11.5  14.0  11.0  7.500909   \n",
       "2      11.0  9.0  3.316625  4.0  6.5  9.0  11.5  14.0  11.0  7.500909   \n",
       "3      11.0  9.0  3.316625  4.0  6.5  9.0  11.5  14.0  11.0  7.500000   \n",
       "4      11.0  9.0  3.316625  8.0  8.0  8.0   8.0  19.0  11.0  7.500909   \n",
       "\n",
       "                                                 \n",
       "            std   min    25%   50%   75%    max  \n",
       "group                                            \n",
       "1      2.031568  4.26  6.315  7.58  8.57  10.84  \n",
       "2      2.031657  3.10  6.695  8.14  8.95   9.26  \n",
       "3      2.030424  5.39  6.250  7.11  7.98  12.74  \n",
       "4      2.030579  5.25  6.170  7.04  8.19  12.50  "
      ]
     },
     "execution_count": 5,
     "metadata": {},
     "output_type": "execute_result"
    }
   ],
   "source": [
    "df_anscombe.groupby('group').describe()"
   ]
  },
  {
   "cell_type": "markdown",
   "id": "02532823",
   "metadata": {},
   "source": [
    "The groups appear to be quite similar, as evidenced by the identical mean and standard deviation values for both `x` and `y` within each group.\n",
    "\n",
    "Additionally, you can analyze the correlation between `x` and `y` within each group.\n",
    "\n",
    "To obtain the correlation matrix for each group, you can follow the same approach as before. First, group the data by the `group` column using `DataFrame.groupby`, and then apply the `.corr` function."
   ]
  },
  {
   "cell_type": "code",
   "execution_count": 6,
   "id": "655b0377",
   "metadata": {},
   "outputs": [
    {
     "data": {
      "text/html": [
       "<div>\n",
       "<style scoped>\n",
       "    .dataframe tbody tr th:only-of-type {\n",
       "        vertical-align: middle;\n",
       "    }\n",
       "\n",
       "    .dataframe tbody tr th {\n",
       "        vertical-align: top;\n",
       "    }\n",
       "\n",
       "    .dataframe thead th {\n",
       "        text-align: right;\n",
       "    }\n",
       "</style>\n",
       "<table border=\"1\" class=\"dataframe\">\n",
       "  <thead>\n",
       "    <tr style=\"text-align: right;\">\n",
       "      <th></th>\n",
       "      <th></th>\n",
       "      <th>x</th>\n",
       "      <th>y</th>\n",
       "    </tr>\n",
       "    <tr>\n",
       "      <th>group</th>\n",
       "      <th></th>\n",
       "      <th></th>\n",
       "      <th></th>\n",
       "    </tr>\n",
       "  </thead>\n",
       "  <tbody>\n",
       "    <tr>\n",
       "      <th rowspan=\"2\" valign=\"top\">1</th>\n",
       "      <th>x</th>\n",
       "      <td>1.000000</td>\n",
       "      <td>0.816421</td>\n",
       "    </tr>\n",
       "    <tr>\n",
       "      <th>y</th>\n",
       "      <td>0.816421</td>\n",
       "      <td>1.000000</td>\n",
       "    </tr>\n",
       "    <tr>\n",
       "      <th rowspan=\"2\" valign=\"top\">2</th>\n",
       "      <th>x</th>\n",
       "      <td>1.000000</td>\n",
       "      <td>0.816237</td>\n",
       "    </tr>\n",
       "    <tr>\n",
       "      <th>y</th>\n",
       "      <td>0.816237</td>\n",
       "      <td>1.000000</td>\n",
       "    </tr>\n",
       "    <tr>\n",
       "      <th rowspan=\"2\" valign=\"top\">3</th>\n",
       "      <th>x</th>\n",
       "      <td>1.000000</td>\n",
       "      <td>0.816287</td>\n",
       "    </tr>\n",
       "    <tr>\n",
       "      <th>y</th>\n",
       "      <td>0.816287</td>\n",
       "      <td>1.000000</td>\n",
       "    </tr>\n",
       "    <tr>\n",
       "      <th rowspan=\"2\" valign=\"top\">4</th>\n",
       "      <th>x</th>\n",
       "      <td>1.000000</td>\n",
       "      <td>0.816521</td>\n",
       "    </tr>\n",
       "    <tr>\n",
       "      <th>y</th>\n",
       "      <td>0.816521</td>\n",
       "      <td>1.000000</td>\n",
       "    </tr>\n",
       "  </tbody>\n",
       "</table>\n",
       "</div>"
      ],
      "text/plain": [
       "                x         y\n",
       "group                      \n",
       "1     x  1.000000  0.816421\n",
       "      y  0.816421  1.000000\n",
       "2     x  1.000000  0.816237\n",
       "      y  0.816237  1.000000\n",
       "3     x  1.000000  0.816287\n",
       "      y  0.816287  1.000000\n",
       "4     x  1.000000  0.816521\n",
       "      y  0.816521  1.000000"
      ]
     },
     "execution_count": 6,
     "metadata": {},
     "output_type": "execute_result"
    }
   ],
   "source": [
    "df_anscombe.groupby('group').corr()"
   ]
  },
  {
   "cell_type": "markdown",
   "id": "facfef83",
   "metadata": {},
   "source": [
    "As observed, the correlation between `x` and `y` is identical within each group up to three decimal places. Moreover, the high correlation coefficient values suggest a strong linear correlation between `x` and `y` within each group.\n",
    "\n",
    "Despite the similarities in the statistical measures for the groups, it is still necessary to visualize the data to get a better understanding of the differences, if any."
   ]
  },
  {
   "cell_type": "code",
   "execution_count": 7,
   "id": "ba869efd",
   "metadata": {},
   "outputs": [
    {
     "data": {
      "application/vnd.jupyter.widget-view+json": {
       "model_id": "0922b2e6d8174a568931ee5621fe9131",
       "version_major": 2,
       "version_minor": 0
      },
      "image/png": "[encoded data removed]",
      "text/html": [
       "\n",
       "            <div style=\"display: inline-block;\">\n",
       "                <div class=\"jupyter-widgets widget-label\" style=\"text-align: center;\">\n",
       "                    Figure\n",
       "                </div>\n",
       "                <img src='data:image/png;base64,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' width=800.0/>\n",
       "            </div>\n",
       "        "
      ],
      "text/plain": [
       "Canvas(toolbar=Toolbar(toolitems=[('Home', 'Reset original view', 'home', 'home'), ('Back', 'Back to previous …"
      ]
     },
     "metadata": {},
     "output_type": "display_data"
    }
   ],
   "source": [
    "utils.plot_anscombes_quartet()"
   ]
  },
  {
   "cell_type": "markdown",
   "id": "af7aa0f3",
   "metadata": {},
   "source": [
    "Upon visualizing the data, the four groups appear to be quite distinct:\n",
    "\n",
    "1. The first group shows a clear linear relationship between `x` and `y`.\n",
    "2. The second group, on the other hand, exhibits a non-linear pattern, indicating that the usual Pearson correlation may not be appropriate to describe the dataset.\n",
    "3. The third group would be linear if it were not for a single outlier.\n",
    "4. The fourth group demonstrates that `y` can have different values for the same `x`, suggesting that there is no clear relationship between `x` and `y`. However, there is also an outlier in this group.\n",
    "\n",
    "These four groups illustrate that summary statistics alone are not sufficient for investigating data. Visualizing the data, analyzing possible outliers, and identifying more complex relationships are essential to gain a better understanding of the underlying patterns in the data."
   ]
  },
  {
   "cell_type": "markdown",
   "id": "4d829a1f",
   "metadata": {},
   "source": [
    "# 2 - Second data set - Datasaurus Dozen\n",
    "\n",
    "The creation of Anscombe's quartet inspired other authors to generate datasets that have different relationships among its points but share the same summary statistics. One such dataset is the Datasaurus Dozen, which was created by AutoDesk. \n",
    "\n",
    "In this case, you will take a different approach. Instead of analyzing summary statistics and then plotting the data points, you will compare two datasets from the dozen and compute their statistics."
   ]
  },
  {
   "cell_type": "code",
   "execution_count": 8,
   "id": "76d174b1",
   "metadata": {},
   "outputs": [],
   "source": [
    "df_datasaurus = pd.read_csv(\"datasaurus.csv\")"
   ]
  },
  {
   "cell_type": "markdown",
   "id": "f0aaf119",
   "metadata": {},
   "source": [
    "The next cell will run a widget where you can investigate this dataset, which has different groups in it."
   ]
  },
  {
   "cell_type": "code",
   "execution_count": 9,
   "id": "cc2eb2cc",
   "metadata": {},
   "outputs": [],
   "source": [
    "utils.display_widget()"
   ]
  },
  {
   "cell_type": "markdown",
   "id": "37513ad2",
   "metadata": {},
   "source": [
    "As you have observed, the first dataset was not an anomaly; it is possible to have different datasets with the same summary statistics. Hence, it is essential to keep in mind while analyzing data that the summary statistics alone may not provide a complete picture of the underlying patterns and relationships."
   ]
  },
  {
   "cell_type": "markdown",
   "id": "941c9278",
   "metadata": {},
   "source": [
    "Congratulations! You have completed this ungraded lab and now understand that summary statistics may not capture all the necessary information to describe your data accurately. Keep in mind that visualizations and more in-depth analyses are often needed to get a better understanding of your data."
   ]
  }
 ],
 "metadata": {
  "kernelspec": {
   "display_name": "Python 3 (ipykernel)",
   "language": "python",
   "name": "python3"
  },
  "language_info": {
   "codemirror_mode": {
    "name": "ipython",
    "version": 3
   },
   "file_extension": ".py",
   "mimetype": "text/x-python",
   "name": "python",
   "nbconvert_exporter": "python",
   "pygments_lexer": "ipython3",
   "version": "3.10.11"
  }
 },
 "nbformat": 4,
 "nbformat_minor": 5
}
